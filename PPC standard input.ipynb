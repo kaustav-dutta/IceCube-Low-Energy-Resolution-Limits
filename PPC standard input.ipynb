{
 "cells": [
  {
   "cell_type": "code",
   "execution_count": 1,
   "metadata": {},
   "outputs": [],
   "source": [
    "import sys\n",
    "import os\n",
    "os.environ[\"CUDA VISIBLE DEVICES\"]=\"4\"\n",
    "import pandas as pd\n",
    "import numpy as np\n",
    "import matplotlib.pyplot as plt\n",
    "import tensorflow as tf\n",
    "np.set_printoptions(threshold=sys.maxsize)\n",
    "from scipy import stats\n",
    "from sklearn.model_selection import train_test_split\n",
    "import math\n",
    "import plotly.graph_objs as go\n",
    "from scipy.optimize import minimize"
   ]
  },
  {
   "cell_type": "code",
   "execution_count": null,
   "metadata": {},
   "outputs": [],
   "source": [
    "import sys\n",
    "cascade_file=open(\"testf2k_hadronic_h20_v3_1GeV_20GeV_10000events_vert\",'w+')\n",
    "z_adjust=1948.07 #Coordinate system transformation, see iceCube wiki\n",
    "\n",
    "#Define a cylinder within which event starting points are located\n",
    "r=30   #radius of cylinder\n",
    "h=60   #height of cylinder\n",
    "count=0\n",
    "energy_list = np.arange(1, 21)    #energy range \n",
    "index=0\n",
    "\n",
    "geo=pd.read_csv(\"geo-f2k_h20_v3\",sep='\\t',header=None)     #geometry file\n",
    "dom_pos_x=geo.iloc[range(0,len(geo)),2].tolist()\n",
    "dom_pos_y=geo.iloc[range(0,len(geo)),3].tolist()\n",
    "dom_pos_z=(geo.iloc[range(0,len(geo)),4]+z_adjust).tolist()\n",
    "\n",
    "z_mean=np.mean(dom_pos_z)\n",
    "x_mean=np.mean(dom_pos_x)\n",
    "y_mean=np.mean(dom_pos_y)\n",
    "\n",
    "for i in range(10000):\n",
    "    count+=1\n",
    "    if(count>500):\n",
    "        count=1\n",
    "        index+=1\n",
    "        \n",
    "    x = np.random.uniform(x_mean - r, x_mean + r)\n",
    "    y = np.random.uniform(y_mean - r, y_mean + r)\n",
    "    z = np.random.uniform(z_mean - h, z_mean + h)\n",
    "    \n",
    "    azimuth=np.random.rand()*360  # degrees\n",
    "    zenith = (180/np.pi) * np.arccos(1 - 2*np.random.rand())  #degrees\n",
    "    \n",
    "    l=0             # length, m\n",
    "    energy=energy_list[index]  # GeV\n",
    "    t=0                # ns\n",
    "    \n",
    "    cascade_file.write(\"TR 1 0 hadr \"+str(x)+\" \"+str(y)+\" \"+str(z)+\" \"+str(zenith)+\" \"+str(azimuth)+\" \"+str(l)+\" \"+str(energy)+\" \"+str(t)+\"\\n\")\n",
    "    "
   ]
  }
 ],
 "metadata": {
  "kernelspec": {
   "display_name": "Python 3",
   "language": "python",
   "name": "python3"
  },
  "language_info": {
   "codemirror_mode": {
    "name": "ipython",
    "version": 3
   },
   "file_extension": ".py",
   "mimetype": "text/x-python",
   "name": "python",
   "nbconvert_exporter": "python",
   "pygments_lexer": "ipython3",
   "version": "3.6.9"
  }
 },
 "nbformat": 4,
 "nbformat_minor": 2
}
